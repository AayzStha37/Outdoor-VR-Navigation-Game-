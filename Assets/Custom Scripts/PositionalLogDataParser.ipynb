{
 "cells": [
  {
   "cell_type": "code",
   "execution_count": 1,
   "metadata": {},
   "outputs": [
    {
     "name": "stdout",
     "output_type": "stream",
     "text": [
      "Parsing Complete! Check the output files in the specified location.\n"
     ]
    }
   ],
   "source": [
    "import os\n",
    "\n",
    "POSLOG_FILENAME = \"PositionData_1\"\n",
    "def parse_log_file(filename, start_lines, end_lines):\n",
    "  \"\"\"\n",
    "  Parses a log file and extracts data between specific start and end lines.\n",
    "\n",
    "  Args:\n",
    "      filename: Path to the log file.\n",
    "      start_lines: List of possible lines marking the start of a data set.\n",
    "      end_lines: List of possible lines marking the end of a data set.\n",
    "  \"\"\"\n",
    "  data_buffer = []\n",
    "  file_number = 1\n",
    "\n",
    "  with open(filename, 'r') as file:\n",
    "    for line in file:\n",
    "      # Check for start lines\n",
    "      if any(line.strip() == start_line.strip() for start_line in start_lines):\n",
    "        data_buffer = []  # Clear buffer on new start line\n",
    "\n",
    "      # Check for end lines\n",
    "      if any(line.strip() == end_line.strip() for end_line in end_lines):\n",
    "        # Write data to separate file\n",
    "        if data_buffer:\n",
    "          output_filename = os.path.join(os.path.dirname(filename), POSLOG_FILENAME+f\"_PARSE_{file_number}.txt\")\n",
    "          with open(output_filename, 'w') as out_file:\n",
    "            out_file.writelines(data_buffer)\n",
    "          file_number += 1\n",
    "\n",
    "      # Append data between start and end lines\n",
    "      else:\n",
    "        data_buffer.append(line)\n",
    "\n",
    "if __name__ == \"__main__\":\n",
    "  location = \"D:\\\\GEM Lab\\\\GONVI\\\\Outdoor-VR-Navigation-Game-\\\\Game Logs\\\\POS LOG P1-20\\\\\"  \n",
    "  filename = os.path.join(location, POSLOG_FILENAME+\".txt\")  # Replace with your actual log file name\n",
    "\n",
    "  start_lines = [\n",
    "      \"POSLOG: Task 2.1 started with visuals: False\",\n",
    "      \"POSLOG: Task 2.2 started with visuals: False\",\n",
    "      \"POSLOG: Task 2.2 started with visuals: True\",\n",
    "      \"POSLOG: Task 3.1 started with visuals: False\",\n",
    "      \"POSLOG: Task 3.2 started with visuals: False\",\n",
    "      \"POSLOG: Task 3.2 started with visuals: True\",\n",
    "  ]\n",
    "  end_lines = [\n",
    "      \"POSLOG: Task completed\"\n",
    "  ]\n",
    "\n",
    "  parse_log_file(filename, start_lines, end_lines)\n",
    "\n",
    "  print(\"Parsing Complete! Check the output files in the specified location.\")\n"
   ]
  },
  {
   "cell_type": "code",
   "execution_count": null,
   "metadata": {},
   "outputs": [],
   "source": [
    "import os\n",
    "import shutil\n",
    "\n",
    "# Specify the path to the folder containing the files\n",
    "source_folder = \"D:\\\\GEM Lab\\\\GONVI\\\\Outdoor-VR-Navigation-Game-\\\\Game Logs\\\\POS LOG P1-20\\\\PARSED POS LOGS\"\n",
    "\n",
    "# Create a dictionary to group files by their `n` value\n",
    "grouped_files = {}\n",
    "\n",
    "# Iterate through all the files in the source folder\n",
    "for filename in os.listdir(source_folder):\n",
    "    # Check if the filename matches the expected format\n",
    "    if \"PositionData\" in filename and \"_PARSE_\" in filename:\n",
    "        # Split the filename to extract N and n\n",
    "        parts = filename.split('_')\n",
    "        # Ensure we have enough parts and the format matches\n",
    "        if len(parts) >= 4 and parts[0] == \"PositionData\" and parts[2] == \"PARSE\":\n",
    "            # Extract the `n` value\n",
    "            n = parts[-1]\n",
    "            \n",
    "            # Add the filename to the group based on its `n` value\n",
    "            if n not in grouped_files:\n",
    "                grouped_files[n] = []\n",
    "            grouped_files[n].append(filename)\n",
    "\n",
    "# Create a new folder for each group and move files to the corresponding folder\n",
    "for n, files in grouped_files.items():\n",
    "    # Create a new folder for the current `n` group\n",
    "    new_folder = os.path.join(source_folder, f\"PARSED_POS_LOGS_{n}\")\n",
    "    os.makedirs(new_folder, exist_ok=True)\n",
    "    \n",
    "    # Move files to the new folder\n",
    "    for file in files:\n",
    "        file_path = os.path.join(source_folder, file)\n",
    "        shutil.move(file_path, new_folder)\n",
    "\n",
    "print(\"Files have been organized by `n` value and moved to respective folders.\")\n"
   ]
  }
 ],
 "metadata": {
  "kernelspec": {
   "display_name": "Python 3",
   "language": "python",
   "name": "python3"
  },
  "language_info": {
   "codemirror_mode": {
    "name": "ipython",
    "version": 3
   },
   "file_extension": ".py",
   "mimetype": "text/x-python",
   "name": "python",
   "nbconvert_exporter": "python",
   "pygments_lexer": "ipython3",
   "version": "3.11.9"
  }
 },
 "nbformat": 4,
 "nbformat_minor": 2
}
