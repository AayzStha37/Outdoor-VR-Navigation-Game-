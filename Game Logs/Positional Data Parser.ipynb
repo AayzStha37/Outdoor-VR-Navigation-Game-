{
 "cells": [
  {
   "cell_type": "code",
   "execution_count": 20,
   "metadata": {},
   "outputs": [
    {
     "name": "stdout",
     "output_type": "stream",
     "text": [
      "Parsing Complete! Check the output files in the specified location.\n"
     ]
    }
   ],
   "source": [
    "import os\n",
    "\n",
    "def parse_log_file(filename, start_lines, end_lines):\n",
    "  \"\"\"\n",
    "  Parses a log file and extracts data between specific start and end lines.\n",
    "\n",
    "  Args:\n",
    "      filename: Path to the log file.\n",
    "      start_lines: List of possible lines marking the start of a data set.\n",
    "      end_lines: List of possible lines marking the end of a data set.\n",
    "  \"\"\"\n",
    "  data_buffer = []\n",
    "  file_number = 1\n",
    "\n",
    "  with open(filename, 'r') as file:\n",
    "    for line in file:\n",
    "      # Check for start lines\n",
    "      if any(line.strip() == start_line.strip() for start_line in start_lines):\n",
    "        data_buffer = []  # Clear buffer on new start line\n",
    "\n",
    "      # Check for end lines\n",
    "      if any(line.strip() == end_line.strip() for end_line in end_lines):\n",
    "        # Write data to separate file\n",
    "        if data_buffer:\n",
    "          output_filename = os.path.join(os.path.dirname(filename), f\"POSLOG_PARSE_{file_number}.txt\")\n",
    "          with open(output_filename, 'w') as out_file:\n",
    "            out_file.writelines(data_buffer)\n",
    "          file_number += 1\n",
    "\n",
    "      # Append data between start and end lines\n",
    "      else:\n",
    "        data_buffer.append(line)\n",
    "\n",
    "if __name__ == \"__main__\":\n",
    "  location = \"D:\\\\GEM Lab\\\\GONVI\\\\Outdoor-VR-Navigation-Game-\\\\Game Logs\\\\\"  # Added backslash\n",
    "  filename = os.path.join(location, \"PositionData_PILOT-2.txt\")  # Replace with your actual log file name\n",
    "\n",
    "  start_lines = [\n",
    "      \"POSLOG: Task 2.1 started with visuals: False\",\n",
    "      \"POSLOG: Task 2.2 started with visuals: False\",\n",
    "      \"POSLOG: Task 2.2 started with visuals: True\",\n",
    "      \"POSLOG: Task 3.1 started with visuals: False\",\n",
    "      \"POSLOG: Task 3.2 started with visuals: False\",\n",
    "      \"POSLOG: Task 3.2 started with visuals: True\",\n",
    "  ]\n",
    "  end_lines = [\n",
    "      \"POSLOG: Task completed\",\n",
    "      \"POSLOG: Task FORCE completed\"\n",
    "  ]\n",
    "\n",
    "  parse_log_file(filename, start_lines, end_lines)\n",
    "\n",
    "  print(\"Parsing Complete! Check the output files in the specified location.\")\n"
   ]
  }
 ],
 "metadata": {
  "kernelspec": {
   "display_name": "Python 3",
   "language": "python",
   "name": "python3"
  },
  "language_info": {
   "codemirror_mode": {
    "name": "ipython",
    "version": 3
   },
   "file_extension": ".py",
   "mimetype": "text/x-python",
   "name": "python",
   "nbconvert_exporter": "python",
   "pygments_lexer": "ipython3",
   "version": "3.12.1"
  }
 },
 "nbformat": 4,
 "nbformat_minor": 2
}
